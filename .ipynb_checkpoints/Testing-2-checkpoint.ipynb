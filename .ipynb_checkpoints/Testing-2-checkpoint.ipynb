{
 "cells": [
  {
   "cell_type": "code",
   "execution_count": 3,
   "id": "sticky-rebecca",
   "metadata": {},
   "outputs": [],
   "source": [
    "import numpy\n",
    "\n",
    "class env:\n",
    "    def __init__(self):\n",
    "        self.x_range = 50\n",
    "        self.y_range = 50\n",
    "        self.motions = [(-1, 0), (-1, 1), (0, 1), (1, 1),\n",
    "                        (1, 0), (1, -1), (0, -1), (-1, -1)]\n",
    "        self.obs = self.obs_map()\n",
    "\n",
    "    def update_obs(self, obs):\n",
    "        self.obs = obs\n",
    "\n",
    "    def obs_map(self):\n",
    "        x = self.x_range\n",
    "        y = self.y_range\n",
    "        obs = set()\n",
    "\n",
    "        for i in range(x):\n",
    "            obs.add((i, 0))\n",
    "        for i in range(x):\n",
    "            obs.add((i, y - 1))\n",
    "\n",
    "        for i in range(y):\n",
    "            obs.add((0, i))\n",
    "        for i in range(y):\n",
    "            obs.add((x - 1, i))\n",
    "\n",
    "        for i in numpy.arange(0,7,0.3):\n",
    "            obs.add((i,35-5*i))\n",
    "\n",
    "        for i in range(7,45):\n",
    "            obs.add((i,0.1315*i - 0.921))\n",
    "\n",
    "        for i in numpy.arange(45,49,0.2):\n",
    "            obs.add((i,8*i - 355))\n",
    "\n",
    "        for i in range(25,49):\n",
    "            obs.add((i,-0.2*i +54))\n",
    "\n",
    "        for i in range(0,25):\n",
    "            obs.add((i,0.6*i+34))\n",
    "\n",
    "        for i in range(20,35):\n",
    "            obs.add((i,15))\n",
    "            obs.add((i,30))\n",
    "\n",
    "        for i in range(15,30):\n",
    "            obs.add((35,i))\n",
    "        \n",
    "        obs.add((35,30))\n",
    "\n",
    "\n",
    "\n",
    "        return obs\n"
   ]
  },
  {
   "cell_type": "code",
   "execution_count": 4,
   "id": "secondary-compensation",
   "metadata": {},
   "outputs": [],
   "source": [
    "import os\n",
    "import sys\n",
    "import matplotlib.pyplot as plt\n",
    "from pylab import *\n",
    "from matplotlib.ticker import MultipleLocator, FormatStrFormatter\n",
    "\n",
    "class Plotting:\n",
    "    def __init__(self, start, goal):\n",
    "        self.env = env()\n",
    "        self.obs = self.env.obs_map()\n",
    "        self.start = start\n",
    "        self.goal = goal\n",
    "\n",
    "    def plot_grid(self,name):\n",
    "        obs_x = [x[0] for x in self.obs]\n",
    "        obs_y = [x[1] for x in self.obs]\n",
    "\n",
    "        plt.plot(obs_x,obs_y,\"sk\")\n",
    "        plt.title(name)\n",
    "        plt.axis(\"equal\")\n",
    "        \n",
    "        ax = subplot(111)\n",
    "\n",
    "        ax.xaxis.set_major_locator(MultipleLocator(5))\n",
    "        ax.xaxis.set_major_formatter(FormatStrFormatter('%d'))\n",
    "        ax.xaxis.set_minor_locator(MultipleLocator(2.5))\n",
    "\n",
    "        ax.yaxis.set_major_locator(MultipleLocator(5))\n",
    "        ax.yaxis.set_minor_locator(MultipleLocator(2.5))\n",
    "\n",
    "        ax.xaxis.grid(True,'minor')\n",
    "        ax.yaxis.grid(True,'minor')\n",
    "        ax.xaxis.grid(True,'major',linewidth=2)\n",
    "        ax.yaxis.grid(True,'major',linewidth=2)\n",
    "#         plt.show()\n",
    "    \n",
    "    def ret_map(self):\n",
    "        return self.obs\n",
    "\n",
    "    def ret_range(self):\n",
    "        return self.env.x_range, self.env.y_range\n",
    "    \n",
    "    def animation(self, visited, name):\n",
    "        self.plot_grid(name)\n",
    "        self.plot_visited(visited)\n",
    "        # self.plot_path(path)\n",
    "        plt.show()\n",
    "\n",
    "    def plot_visited(self, visited, cl='gray'):\n",
    "        if self.start in visited:\n",
    "            visited.remove(self.start)\n",
    "\n",
    "        if self.goal in visited:\n",
    "            visited.remove(self.goal)\n",
    "            \n",
    "        count = 0\n",
    "\n",
    "        for cells in visited:\n",
    "            count += 1\n",
    "            plt.plot(cells[0], cells[1], color=cl, marker='s')\n",
    "            if count < len(visited) / 3:\n",
    "                length = 20\n",
    "            elif count < len(visited) * 2 / 3:\n",
    "                length = 30\n",
    "            else:\n",
    "                length = 40\n",
    "            \n",
    "            length = 15\n",
    "\n",
    "            if count % length == 0:\n",
    "                plt.pause(0.0000001)\n",
    "        plt.pause(0.01)\n",
    "\n",
    "\n",
    "    @staticmethod\n",
    "    def color_list():\n",
    "        cl_v = ['silver',\n",
    "                'wheat',\n",
    "                'lightskyblue',\n",
    "                'royalblue',\n",
    "                'slategray']\n",
    "        cl_p = ['gray',\n",
    "                'orange',\n",
    "                'deepskyblue',\n",
    "                'red',\n",
    "                'm']\n",
    "        return cl_v, cl_p\n",
    "\n",
    "    @staticmethod\n",
    "    def color_list_2():\n",
    "        cl = ['silver',\n",
    "              'steelblue',\n",
    "              'dimgray',\n",
    "              'cornflowerblue',\n",
    "              'dodgerblue',\n",
    "              'royalblue',\n",
    "              'plum',\n",
    "              'mediumslateblue',\n",
    "              'mediumpurple',\n",
    "              'blueviolet',\n",
    "              ]\n",
    "        return cl\n",
    "        "
   ]
  },
  {
   "cell_type": "code",
   "execution_count": 5,
   "id": "announced-american",
   "metadata": {},
   "outputs": [],
   "source": [
    "plot = Plotting([2,3],[44,45])"
   ]
  },
  {
   "cell_type": "code",
   "execution_count": 6,
   "id": "failing-creek",
   "metadata": {},
   "outputs": [
    {
     "name": "stderr",
     "output_type": "stream",
     "text": [
      "<ipython-input-4-3f0143324d5d>:22: MatplotlibDeprecationWarning: Adding an axes using the same arguments as a previous axes currently reuses the earlier instance.  In a future version, a new instance will always be created and returned.  Meanwhile, this warning can be suppressed, and the future behavior ensured, by passing a unique label to each axes instance.\n",
      "  ax = subplot(111)\n"
     ]
    },
    {
     "data": {
      "image/png": "[encoded data removed]",
      "text/plain": [
       "<Figure size 432x288 with 1 Axes>"
      ]
     },
     "metadata": {
      "needs_background": "light"
     },
     "output_type": "display_data"
    }
   ],
   "source": [
    "plot.plot_grid(\"map\")"
   ]
  },
  {
   "cell_type": "code",
   "execution_count": 27,
   "id": "north-booking",
   "metadata": {},
   "outputs": [
    {
     "name": "stderr",
     "output_type": "stream",
     "text": [
      "<ipython-input-4-3f0143324d5d>:22: MatplotlibDeprecationWarning: Adding an axes using the same arguments as a previous axes currently reuses the earlier instance.  In a future version, a new instance will always be created and returned.  Meanwhile, this warning can be suppressed, and the future behavior ensured, by passing a unique label to each axes instance.\n",
      "  ax = subplot(111)\n"
     ]
    },
    {
     "data": {
      "image/png": "[encoded data removed]",
      "text/plain": [
       "<Figure size 432x288 with 1 Axes>"
      ]
     },
     "metadata": {
      "needs_background": "light"
     },
     "output_type": "display_data"
    }
   ],
   "source": [
    "plot.animation(visited,\"Map\")"
   ]
  },
  {
   "cell_type": "code",
   "execution_count": 28,
   "id": "expanded-swift",
   "metadata": {},
   "outputs": [],
   "source": [
    "def get_matrix(obstacles):\n",
    "\n",
    "    node_adj = np.zeros([10,10])\n",
    "\n",
    "    for obs in obstacles:\n",
    "        z_x = math.floor(math.floor(obs[0])/5)\n",
    "        z_y = math.floor(math.floor(obs[1])/5)\n",
    "        if z_x < 0:\n",
    "            z_x = 0\n",
    "        elif z_y < 0:\n",
    "            z_y = 0\n",
    "        node_adj[9-z_y,z_x] = 1\n",
    "\n",
    "    sub_node_adj = np.zeros([20,20])\n",
    "\n",
    "    for obs in obstacles:\n",
    "        z_x = math.floor(math.floor(obs[0])/2.5)\n",
    "        z_y = math.floor(math.floor(obs[1])/2.5)\n",
    "        if z_x < 0:\n",
    "            z_x = 0\n",
    "        elif z_y < 0:\n",
    "            z_y = 0\n",
    "        sub_node_adj[19-z_y,z_x] = 1\n",
    "\n",
    "    return node_adj,sub_node_adj"
   ]
  },
  {
   "cell_type": "code",
   "execution_count": 29,
   "id": "broken-lancaster",
   "metadata": {},
   "outputs": [],
   "source": [
    "node_adj, sub_node_adj = get_matrix(plot.ret_map())"
   ]
  },
  {
   "cell_type": "code",
   "execution_count": 30,
   "id": "mineral-venue",
   "metadata": {},
   "outputs": [
    {
     "data": {
      "text/plain": [
       "array([[1., 1., 1., 1., 1., 1., 1., 1., 1., 1.],\n",
       "       [1., 0., 1., 1., 0., 0., 0., 0., 0., 1.],\n",
       "       [1., 1., 0., 0., 0., 0., 0., 0., 0., 1.],\n",
       "       [1., 0., 0., 0., 1., 1., 1., 1., 0., 1.],\n",
       "       [1., 0., 0., 0., 0., 0., 0., 1., 0., 1.],\n",
       "       [1., 0., 0., 0., 0., 0., 0., 1., 0., 1.],\n",
       "       [1., 0., 0., 0., 1., 1., 1., 1., 0., 1.],\n",
       "       [1., 0., 0., 0., 0., 0., 0., 0., 0., 1.],\n",
       "       [1., 1., 0., 0., 0., 0., 0., 0., 0., 1.],\n",
       "       [1., 1., 1., 1., 1., 1., 1., 1., 1., 1.]])"
      ]
     },
     "execution_count": 30,
     "metadata": {},
     "output_type": "execute_result"
    }
   ],
   "source": [
    "node_adj"
   ]
  },
  {
   "cell_type": "code",
   "execution_count": 13,
   "id": "reserved-package",
   "metadata": {},
   "outputs": [
    {
     "data": {
      "text/plain": [
       "array([[1., 1., 1., 1., 1., 1., 1., 1., 1., 1., 1., 1., 1., 1., 1., 1.,\n",
       "        1., 1., 1., 1.],\n",
       "       [1., 0., 0., 0., 0., 0., 0., 1., 1., 1., 0., 0., 1., 1., 1., 1.,\n",
       "        1., 1., 1., 1.],\n",
       "       [1., 0., 0., 0., 0., 0., 1., 1., 0., 0., 0., 0., 0., 0., 0., 0.,\n",
       "        0., 0., 1., 1.],\n",
       "       [1., 0., 0., 0., 1., 1., 0., 0., 0., 0., 0., 0., 0., 0., 0., 0.,\n",
       "        0., 0., 0., 1.],\n",
       "       [1., 0., 1., 1., 0., 0., 0., 0., 0., 0., 0., 0., 0., 0., 0., 0.,\n",
       "        0., 0., 0., 1.],\n",
       "       [1., 1., 1., 0., 0., 0., 0., 0., 0., 0., 0., 0., 0., 0., 0., 0.,\n",
       "        0., 0., 0., 1.],\n",
       "       [1., 0., 0., 0., 0., 0., 0., 0., 0., 0., 0., 0., 0., 0., 0., 0.,\n",
       "        0., 0., 0., 1.],\n",
       "       [1., 0., 0., 0., 0., 0., 0., 0., 1., 1., 1., 1., 1., 1., 1., 0.,\n",
       "        0., 0., 0., 1.],\n",
       "       [1., 0., 0., 0., 0., 0., 0., 0., 0., 0., 0., 0., 0., 0., 1., 0.,\n",
       "        0., 0., 0., 1.],\n",
       "       [1., 0., 0., 0., 0., 0., 0., 0., 0., 0., 0., 0., 0., 0., 1., 0.,\n",
       "        0., 0., 1., 1.],\n",
       "       [1., 0., 0., 0., 0., 0., 0., 0., 0., 0., 0., 0., 0., 0., 1., 0.,\n",
       "        0., 0., 1., 1.],\n",
       "       [1., 1., 0., 0., 0., 0., 0., 0., 0., 0., 0., 0., 0., 0., 1., 0.,\n",
       "        0., 0., 1., 1.],\n",
       "       [1., 1., 0., 0., 0., 0., 0., 0., 0., 0., 0., 0., 0., 0., 1., 0.,\n",
       "        0., 0., 1., 1.],\n",
       "       [1., 1., 0., 0., 0., 0., 0., 0., 1., 1., 1., 1., 1., 1., 1., 0.,\n",
       "        0., 0., 1., 1.],\n",
       "       [1., 1., 0., 0., 0., 0., 0., 0., 0., 0., 0., 0., 0., 0., 0., 0.,\n",
       "        0., 0., 1., 1.],\n",
       "       [1., 1., 0., 0., 0., 0., 0., 0., 0., 0., 0., 0., 0., 0., 0., 0.,\n",
       "        0., 0., 1., 1.],\n",
       "       [1., 0., 1., 0., 0., 0., 0., 0., 0., 0., 0., 0., 0., 0., 0., 0.,\n",
       "        0., 0., 1., 1.],\n",
       "       [1., 0., 1., 0., 0., 0., 0., 0., 0., 0., 0., 0., 0., 0., 0., 0.,\n",
       "        0., 0., 1., 1.],\n",
       "       [1., 0., 1., 0., 0., 0., 0., 0., 0., 0., 0., 0., 1., 1., 1., 1.,\n",
       "        1., 1., 0., 1.],\n",
       "       [1., 1., 1., 1., 1., 1., 1., 1., 1., 1., 1., 1., 1., 1., 1., 1.,\n",
       "        1., 1., 1., 1.]])"
      ]
     },
     "execution_count": 13,
     "metadata": {},
     "output_type": "execute_result"
    }
   ],
   "source": [
    "sub_node_adj"
   ]
  },
  {
   "cell_type": "code",
   "execution_count": null,
   "id": "spanish-personality",
   "metadata": {},
   "outputs": [],
   "source": [
    "# Current location in node\n",
    "\n",
    "x = 50/20*5\n",
    "y = 50/20*3\n",
    "print(x,y)\n",
    "visited = [[x,y]]\n",
    "\n",
    "for i in range(10):\n",
    "    if i*5 > x:\n",
    "        break\n",
    "x_major = i-1\n",
    "\n",
    "for i in range(10):\n",
    "    if i*5 > y:\n",
    "        break\n",
    "y_major = i-1"
   ]
  },
  {
   "cell_type": "code",
   "execution_count": null,
   "id": "romance-consensus",
   "metadata": {},
   "outputs": [],
   "source": [
    "def XSTC(P,C):\n",
    "    x = C[0]\n",
    "    y = C[1]\n",
    "    if node_adj[9-y][(x+1)]:\n",
    "        P.append(C)\n",
    "        XSTC(P,[x+1,y])\n",
    "    \n",
    "    elif node_adj[9-(y+1)][x]:\n",
    "        P.append(C)\n",
    "        XSTC(P,[x,y+1])\n",
    "        \n",
    "    elif node_adj[9-y][(x+1)]:\n",
    "        P.append(C)\n",
    "        XSTC(P,[9-y,(x+1)])\n",
    "\n",
    "    if node_adj[9-y][(x+1)]:\n",
    "        P.append(C)\n",
    "        XSTC(P,[9-y,(x+1)])"
   ]
  },
  {
   "cell_type": "code",
   "execution_count": null,
   "id": "lesser-colon",
   "metadata": {},
   "outputs": [],
   "source": [
    "P = []\n",
    "C = [[x_major,y_major]]"
   ]
  },
  {
   "cell_type": "code",
   "execution_count": 59,
   "id": "thorough-edition",
   "metadata": {},
   "outputs": [
    {
     "data": {
      "text/plain": [
       "0.0"
      ]
     },
     "execution_count": 59,
     "metadata": {},
     "output_type": "execute_result"
    }
   ],
   "source": [
    "node_adj[8,2]"
   ]
  },
  {
   "cell_type": "code",
   "execution_count": 63,
   "id": "three-arkansas",
   "metadata": {},
   "outputs": [
    {
     "ename": "IndexError",
     "evalue": "index 114 is out of bounds for axis 0 with size 10",
     "output_type": "error",
     "traceback": [
      "\u001b[0;31m---------------------------------------------------------------------------\u001b[0m",
      "\u001b[0;31mIndexError\u001b[0m                                Traceback (most recent call last)",
      "\u001b[0;32m<ipython-input-63-e2cdaf696924>\u001b[0m in \u001b[0;36m<module>\u001b[0;34m\u001b[0m\n\u001b[0;32m----> 1\u001b[0;31m \u001b[0mnode_adj\u001b[0m\u001b[0;34m[\u001b[0m\u001b[0;36m9\u001b[0m\u001b[0;34m-\u001b[0m\u001b[0my_major\u001b[0m\u001b[0;34m]\u001b[0m\u001b[0;34m[\u001b[0m\u001b[0mx_major\u001b[0m\u001b[0;34m+\u001b[0m\u001b[0;36m112\u001b[0m\u001b[0;34m]\u001b[0m\u001b[0;34m\u001b[0m\u001b[0;34m\u001b[0m\u001b[0m\n\u001b[0m",
      "\u001b[0;31mIndexError\u001b[0m: index 114 is out of bounds for axis 0 with size 10"
     ]
    }
   ],
   "source": [
    "node_adj[9-y_major][x_major-1]"
   ]
  },
  {
   "cell_type": "code",
   "execution_count": null,
   "id": "meaningful-victim",
   "metadata": {},
   "outputs": [],
   "source": []
  }
 ],
 "metadata": {
  "kernelspec": {
   "display_name": "Python 3",
   "language": "python",
   "name": "python3"
  },
  "language_info": {
   "codemirror_mode": {
    "name": "ipython",
    "version": 3
   },
   "file_extension": ".py",
   "mimetype": "text/x-python",
   "name": "python",
   "nbconvert_exporter": "python",
   "pygments_lexer": "ipython3",
   "version": "3.9.1"
  }
 },
 "nbformat": 4,
 "nbformat_minor": 5
}
