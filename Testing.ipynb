{
 "cells": [
  {
   "cell_type": "code",
   "execution_count": 1,
   "id": "blessed-mediterranean",
   "metadata": {},
   "outputs": [],
   "source": [
    "import env,plotting"
   ]
  },
  {
   "cell_type": "code",
   "execution_count": 2,
   "id": "adequate-prime",
   "metadata": {},
   "outputs": [],
   "source": [
    "s_start = (5, 5)\n",
    "s_goal = (45, 25)"
   ]
  },
  {
   "cell_type": "code",
   "execution_count": 7,
   "id": "clinical-interface",
   "metadata": {},
   "outputs": [],
   "source": [
    "plot= plotting.Plotting(s_start, s_goal)"
   ]
  },
  {
   "cell_type": "code",
   "execution_count": 9,
   "id": "quick-burner",
   "metadata": {},
   "outputs": [
    {
     "data": {
      "image/png": "[encoded data removed]",
      "text/plain": [
       "<Figure size 432x288 with 1 Axes>"
      ]
     },
     "metadata": {
      "needs_background": "light"
     },
     "output_type": "display_data"
    }
   ],
   "source": [
    "plot.plot_grid(\"1\")"
   ]
  },
  {
   "cell_type": "code",
   "execution_count": null,
   "id": "sudden-panel",
   "metadata": {},
   "outputs": [],
   "source": []
  }
 ],
 "metadata": {
  "kernelspec": {
   "display_name": "Python 3",
   "language": "python",
   "name": "python3"
  },
  "language_info": {
   "codemirror_mode": {
    "name": "ipython",
    "version": 3
   },
   "file_extension": ".py",
   "mimetype": "text/x-python",
   "name": "python",
   "nbconvert_exporter": "python",
   "pygments_lexer": "ipython3",
   "version": "3.9.1"
  }
 },
 "nbformat": 4,
 "nbformat_minor": 5
}
